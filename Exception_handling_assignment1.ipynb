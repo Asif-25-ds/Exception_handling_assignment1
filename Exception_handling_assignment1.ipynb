{
 "cells": [
  {
   "cell_type": "code",
   "execution_count": 1,
   "metadata": {},
   "outputs": [],
   "source": [
    "import logging\n",
    "logging.basicConfig(filename=\"excepiton_handling_asssignment1.log\",level=logging.INFO,format='%(asctime)s %(levelname)s %(message)s')"
   ]
  },
  {
   "cell_type": "code",
   "execution_count": 2,
   "metadata": {},
   "outputs": [],
   "source": [
    "#answer of ques-1\n",
    "#EXCEPTION-It is a class in python which contin all types of error as objects like KeyError,IndexError,ZeroDivisionError etc.\n",
    "#the difference b/w exceptions and syntax error is that syntax error is the error or fault in the program structure which stops\n",
    "#flow of execution of program while exception is the class which contains all the types of errors as objects,but it can be \n",
    "#handled by raising it."
   ]
  },
  {
   "cell_type": "code",
   "execution_count": 10,
   "metadata": {},
   "outputs": [
    {
     "ename": "FileNotFoundError",
     "evalue": "[Errno 2] No such file or directory: 'realme.txt'",
     "output_type": "error",
     "traceback": [
      "\u001b[1;31m---------------------------------------------------------------------------\u001b[0m",
      "\u001b[1;31mFileNotFoundError\u001b[0m                         Traceback (most recent call last)",
      "\u001b[1;32mc:\\Users\\hp\\OneDrive\\Desktop\\CODING\\Assignments\\Exception_handling_assignment1.ipynb Cell 3\u001b[0m line \u001b[0;36m6\n\u001b[0;32m      <a href='vscode-notebook-cell:/c%3A/Users/hp/OneDrive/Desktop/CODING/Assignments/Exception_handling_assignment1.ipynb#W2sZmlsZQ%3D%3D?line=3'>4</a>\u001b[0m \u001b[39mtry\u001b[39;00m:\n\u001b[0;32m      <a href='vscode-notebook-cell:/c%3A/Users/hp/OneDrive/Desktop/CODING/Assignments/Exception_handling_assignment1.ipynb#W2sZmlsZQ%3D%3D?line=4'>5</a>\u001b[0m     logging\u001b[39m.\u001b[39minfo(\u001b[39m\"\u001b[39m\u001b[39mi am under try and opening a file which doesn\u001b[39m\u001b[39m'\u001b[39m\u001b[39mt exist\u001b[39m\u001b[39m\"\u001b[39m)\n\u001b[1;32m----> <a href='vscode-notebook-cell:/c%3A/Users/hp/OneDrive/Desktop/CODING/Assignments/Exception_handling_assignment1.ipynb#W2sZmlsZQ%3D%3D?line=5'>6</a>\u001b[0m     \u001b[39mopen\u001b[39;49m(\u001b[39m\"\u001b[39;49m\u001b[39mrealme.txt\u001b[39;49m\u001b[39m\"\u001b[39;49m,\u001b[39m'\u001b[39;49m\u001b[39mr\u001b[39;49m\u001b[39m'\u001b[39;49m)\n\u001b[0;32m      <a href='vscode-notebook-cell:/c%3A/Users/hp/OneDrive/Desktop/CODING/Assignments/Exception_handling_assignment1.ipynb#W2sZmlsZQ%3D%3D?line=6'>7</a>\u001b[0m \u001b[39mexcept\u001b[39;00m \u001b[39mZeroDivisionError\u001b[39;00m \u001b[39mas\u001b[39;00m e:\n\u001b[0;32m      <a href='vscode-notebook-cell:/c%3A/Users/hp/OneDrive/Desktop/CODING/Assignments/Exception_handling_assignment1.ipynb#W2sZmlsZQ%3D%3D?line=7'>8</a>\u001b[0m     logging\u001b[39m.\u001b[39minfo(\u001b[39m\"\u001b[39m\u001b[39munder except try to handle error but uses invalid exception object\u001b[39m\u001b[39m\"\u001b[39m)\n",
      "File \u001b[1;32m~\\AppData\\Local\\Packages\\PythonSoftwareFoundation.Python.3.11_qbz5n2kfra8p0\\LocalCache\\local-packages\\Python311\\site-packages\\IPython\\core\\interactiveshell.py:284\u001b[0m, in \u001b[0;36m_modified_open\u001b[1;34m(file, *args, **kwargs)\u001b[0m\n\u001b[0;32m    277\u001b[0m \u001b[39mif\u001b[39;00m file \u001b[39min\u001b[39;00m {\u001b[39m0\u001b[39m, \u001b[39m1\u001b[39m, \u001b[39m2\u001b[39m}:\n\u001b[0;32m    278\u001b[0m     \u001b[39mraise\u001b[39;00m \u001b[39mValueError\u001b[39;00m(\n\u001b[0;32m    279\u001b[0m         \u001b[39mf\u001b[39m\u001b[39m\"\u001b[39m\u001b[39mIPython won\u001b[39m\u001b[39m'\u001b[39m\u001b[39mt let you open fd=\u001b[39m\u001b[39m{\u001b[39;00mfile\u001b[39m}\u001b[39;00m\u001b[39m by default \u001b[39m\u001b[39m\"\u001b[39m\n\u001b[0;32m    280\u001b[0m         \u001b[39m\"\u001b[39m\u001b[39mas it is likely to crash IPython. If you know what you are doing, \u001b[39m\u001b[39m\"\u001b[39m\n\u001b[0;32m    281\u001b[0m         \u001b[39m\"\u001b[39m\u001b[39myou can use builtins\u001b[39m\u001b[39m'\u001b[39m\u001b[39m open.\u001b[39m\u001b[39m\"\u001b[39m\n\u001b[0;32m    282\u001b[0m     )\n\u001b[1;32m--> 284\u001b[0m \u001b[39mreturn\u001b[39;00m io_open(file, \u001b[39m*\u001b[39;49margs, \u001b[39m*\u001b[39;49m\u001b[39m*\u001b[39;49mkwargs)\n",
      "\u001b[1;31mFileNotFoundError\u001b[0m: [Errno 2] No such file or directory: 'realme.txt'"
     ]
    }
   ],
   "source": [
    "#answer of ques-2\n",
    "#if an exception is not handled then the program execution will stops\n",
    "#for example:-\n",
    "try:\n",
    "    logging.info(\"i am under try and opening a file which doesn't exist\")\n",
    "    open(\"realme.txt\",'r')\n",
    "except ZeroDivisionError as e:\n",
    "    logging.info(\"under except try to handle error but uses invalid exception object\")\n",
    "    print(e)\n",
    "print(\"this will not execute because the exception is not handled\")"
   ]
  },
  {
   "cell_type": "code",
   "execution_count": 11,
   "metadata": {},
   "outputs": [
    {
     "name": "stdout",
     "output_type": "stream",
     "text": [
      "[Errno 2] No such file or directory: 'realme.txt'\n",
      "this will execute because the exception is handled\n"
     ]
    }
   ],
   "source": [
    "try:\n",
    "    logging.info(\"i am under try an try to open a file which doesn't exist\")\n",
    "    open(\"realme.txt\",'r')\n",
    "except FileNotFoundError as e:\n",
    "    logging.info(\"under except and try to handle error\")\n",
    "    print(e)\n",
    "print(\"this will execute because the exception is handled\")\n",
    "logging.info(\"the error is handled\")"
   ]
  },
  {
   "cell_type": "code",
   "execution_count": 12,
   "metadata": {},
   "outputs": [
    {
     "name": "stdout",
     "output_type": "stream",
     "text": [
      "division by zero\n"
     ]
    }
   ],
   "source": [
    "#answer of ques-3\n",
    "#the except statement in python is used to handle exception\n",
    "#example:-\n",
    "try :\n",
    "    logging.info(\"under try and write statement ot catch error\")\n",
    "    3/0\n",
    "except ZeroDivisionError as e:\n",
    "    logging.info(\"under except and catch zero divisionn error\")\n",
    "    print(e)"
   ]
  },
  {
   "cell_type": "code",
   "execution_count": 13,
   "metadata": {},
   "outputs": [
    {
     "name": "stdout",
     "output_type": "stream",
     "text": [
      "hii, i am under try block\n",
      "under else block\n"
     ]
    }
   ],
   "source": [
    "#answer of ques-4\n",
    "#(a)try and else:-\n",
    "#it is statememnts in python,if try executes successfully then only else will execute or vice-versa\n",
    "try:\n",
    "    logging.info(\"under try\")\n",
    "    print(\"hii, i am under try block\")\n",
    "except:\n",
    "    logging.info(\"this will only log if and only if try fails\")\n",
    "    print(\"invalid syntax\")\n",
    "else:\n",
    "    logging.info(\"under else block\")\n",
    "    print(\"under else block\")"
   ]
  },
  {
   "cell_type": "code",
   "execution_count": 15,
   "metadata": {},
   "outputs": [
    {
     "name": "stdout",
     "output_type": "stream",
     "text": [
      "invalid syntax\n",
      "this execute all time\n"
     ]
    }
   ],
   "source": [
    "#(b)finally:-it is a statement which will defenitely executes ,it doesn't depends upon others;\n",
    "try:\n",
    "    logging.info(\"under try block\")\n",
    "    print(hii)\n",
    "except:\n",
    "    logging.info(\"under except block\")\n",
    "    print(\"invalid syntax\")\n",
    "finally:\n",
    "    logging.info(\"under finally block\")\n",
    "    print(\"this execute all time\")"
   ]
  },
  {
   "cell_type": "code",
   "execution_count": 25,
   "metadata": {},
   "outputs": [],
   "source": [
    "#(c)raise:it is a keyword in python which is used to create custom exceptions\n",
    "\n",
    "class validpassword(Exception):\n",
    "    def __init__(self,msg):\n",
    "        self.msg=msg\n",
    "\n"
   ]
  },
  {
   "cell_type": "code",
   "execution_count": 26,
   "metadata": {},
   "outputs": [],
   "source": [
    "logging.info(\"defining a function to check password\")\n",
    "def password(pw):\n",
    "    logging.info(\"under if-else\")\n",
    "    if len(pw)>10 and len(pw)<6:\n",
    "        raise validpassword(\"length of password must be 6\")\n",
    "    else:\n",
    "        print(\"the password is correct\")"
   ]
  },
  {
   "cell_type": "code",
   "execution_count": 27,
   "metadata": {},
   "outputs": [
    {
     "name": "stdout",
     "output_type": "stream",
     "text": [
      "the password is correct\n"
     ]
    }
   ],
   "source": [
    "try:\n",
    "    logging.info(\"under try block\")\n",
    "    pw=str(input(\"enter password\"))\n",
    "    password(pw)\n",
    "except validpassword as e:\n",
    "    logging.info(\"under except\")\n",
    "    print(\"e\")"
   ]
  },
  {
   "cell_type": "code",
   "execution_count": 30,
   "metadata": {},
   "outputs": [],
   "source": [
    "#answer of ques-5\n",
    "#Custom Exceptions-it is a methodology in python used to handle exceptions by writing our own messages or excpetions objects\n",
    "#It's need: There are many advantages of custom exception handling but one of the advantage is a creating user friendly \n",
    "#environment.Because while writing a production grade code like developing a software if an error occur like the user enter\n",
    "#an invalid statement and if the output is like the language which the user cannot understand then our product will not stand \n",
    "# up in the market.But if the error is in the language of user then user will rectify it..\n",
    "#so all this is possible due to custom exception handling..try to understand with an example....\n",
    "class name(Exception):\n",
    "    logging.info(\"defining  class which inherits exception\")\n",
    "    def __init__(self,msg):\n",
    "        self.msg=msg\n",
    "\n",
    "def checkname(name):\n",
    "    logging.info(\"define a function to check name\")\n",
    "    if len(name)>20:\n",
    "        logging.info(\"under if-statement\")\n",
    "        raise name(\"the name is too long..it should be smaller than or equal to 20 \")\n",
    "    else:\n",
    "        logging.info(\"under else-statemnt\")\n",
    "        print(\"the name is valid\")\n",
    "        "
   ]
  },
  {
   "cell_type": "code",
   "execution_count": 31,
   "metadata": {},
   "outputs": [
    {
     "name": "stdout",
     "output_type": "stream",
     "text": [
      "the name is valid\n"
     ]
    }
   ],
   "source": [
    "try:\n",
    "    logging.info(\"under try block\")\n",
    "    name=input(\"enter name:-\")\n",
    "    checkname(name)\n",
    "except name as e:\n",
    "    logging.info(\"under except block\")\n",
    "    print(e)"
   ]
  },
  {
   "cell_type": "code",
   "execution_count": 32,
   "metadata": {},
   "outputs": [],
   "source": [
    "#answer of ques-6\n",
    "logging.info(\"again defining a custom exception class\")\n",
    "class validate_age(Exception):\n",
    "    def __init__(self,msg):\n",
    "        self.msg=msg\n",
    "\n",
    "def inputage(age):\n",
    "    logging.info(\"define a function to check age\")\n",
    "    if age>150 and age<0:\n",
    "        logging.info(\"under if-statement\")\n",
    "        raise validate_age(\"the entered age is not valid\")\n",
    "    else:\n",
    "        logging.info(\"under else-statement\")\n",
    "        print(\"the age is valid\")\n"
   ]
  },
  {
   "cell_type": "code",
   "execution_count": 33,
   "metadata": {},
   "outputs": [
    {
     "name": "stdout",
     "output_type": "stream",
     "text": [
      "the age is valid\n"
     ]
    }
   ],
   "source": [
    "try:\n",
    "    age=int(input(\"enter age\"))\n",
    "    inputage(age)\n",
    "except validate_age as e:\n",
    "    print(e)"
   ]
  },
  {
   "cell_type": "code",
   "execution_count": null,
   "metadata": {},
   "outputs": [],
   "source": []
  }
 ],
 "metadata": {
  "kernelspec": {
   "display_name": "Python 3",
   "language": "python",
   "name": "python3"
  },
  "language_info": {
   "codemirror_mode": {
    "name": "ipython",
    "version": 3
   },
   "file_extension": ".py",
   "mimetype": "text/x-python",
   "name": "python",
   "nbconvert_exporter": "python",
   "pygments_lexer": "ipython3",
   "version": "3.11.4"
  },
  "orig_nbformat": 4
 },
 "nbformat": 4,
 "nbformat_minor": 2
}
